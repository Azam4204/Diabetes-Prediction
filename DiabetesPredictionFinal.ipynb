{
 "cells": [
  {
   "cell_type": "markdown",
   "metadata": {},
   "source": [
    "# Diabetes Prediction"
   ]
  },
  {
   "cell_type": "markdown",
   "metadata": {},
   "source": [
    "## Importing necessary packages\n"
   ]
  },
  {
   "cell_type": "code",
   "execution_count": 139,
   "metadata": {},
   "outputs": [],
   "source": [
    "import pandas as pd\n",
    "import numpy as np\n",
    "import matplotlib.pyplot as plt\n",
    "import seaborn as sns\n",
    "from sklearn.model_selection import train_test_split\n",
    "from sklearn.metrics import accuracy_score"
   ]
  },
  {
   "cell_type": "markdown",
   "metadata": {},
   "source": [
    "## Data Exporatory Analysis"
   ]
  },
  {
   "cell_type": "code",
   "execution_count": 140,
   "metadata": {},
   "outputs": [
    {
     "name": "stdout",
     "output_type": "stream",
     "text": [
      "   Pregnancies  Glucose  BloodPressure  SkinThickness  Insulin   BMI  \\\n",
      "0            6      148             72             35        0  33.6   \n",
      "1            1       85             66             29        0  26.6   \n",
      "2            8      183             64              0        0  23.3   \n",
      "3            1       89             66             23       94  28.1   \n",
      "4            0      137             40             35      168  43.1   \n",
      "\n",
      "   DiabetesPedigreeFunction  Age  Outcome  \n",
      "0                     0.627   50        1  \n",
      "1                     0.351   31        0  \n",
      "2                     0.672   32        1  \n",
      "3                     0.167   21        0  \n",
      "4                     2.288   33        1  \n",
      "(768, 9)\n"
     ]
    }
   ],
   "source": [
    "#Reading the data\n",
    "data=pd.read_csv(\"diabetes.csv\")\n",
    "accuracy_dic={} # To store the accuracy of different models and visualise them\n",
    "print(data.head())\n",
    "print(data.shape)"
   ]
  },
  {
   "cell_type": "code",
   "execution_count": 141,
   "metadata": {},
   "outputs": [
    {
     "name": "stdout",
     "output_type": "stream",
     "text": [
      "Pregnancies                 0\n",
      "Glucose                     0\n",
      "BloodPressure               0\n",
      "SkinThickness               0\n",
      "Insulin                     0\n",
      "BMI                         0\n",
      "DiabetesPedigreeFunction    0\n",
      "Age                         0\n",
      "Outcome                     0\n",
      "dtype: int64\n"
     ]
    }
   ],
   "source": [
    "#Printing the sum of null values if exist in any variable\n",
    "print(data.isnull().sum())"
   ]
  },
  {
   "cell_type": "code",
   "execution_count": 142,
   "metadata": {},
   "outputs": [
    {
     "name": "stdout",
     "output_type": "stream",
     "text": [
      "Pregnancies                   int64\n",
      "Glucose                       int64\n",
      "BloodPressure                 int64\n",
      "SkinThickness                 int64\n",
      "Insulin                       int64\n",
      "BMI                         float64\n",
      "DiabetesPedigreeFunction    float64\n",
      "Age                           int64\n",
      "Outcome                       int64\n",
      "dtype: object\n"
     ]
    }
   ],
   "source": [
    "#Checking the data types to ensure whether the data is read with the proper data type\n",
    "print(data.dtypes)"
   ]
  },
  {
   "cell_type": "code",
   "execution_count": 143,
   "metadata": {},
   "outputs": [
    {
     "name": "stdout",
     "output_type": "stream",
     "text": [
      "       Pregnancies     Glucose  BloodPressure  SkinThickness     Insulin  \\\n",
      "count   768.000000  768.000000     768.000000     768.000000  768.000000   \n",
      "mean      3.845052  120.894531      69.105469      20.536458   79.799479   \n",
      "std       3.369578   31.972618      19.355807      15.952218  115.244002   \n",
      "min       0.000000    0.000000       0.000000       0.000000    0.000000   \n",
      "25%       1.000000   99.000000      62.000000       0.000000    0.000000   \n",
      "50%       3.000000  117.000000      72.000000      23.000000   30.500000   \n",
      "75%       6.000000  140.250000      80.000000      32.000000  127.250000   \n",
      "max      17.000000  199.000000     122.000000      99.000000  846.000000   \n",
      "\n",
      "              BMI  DiabetesPedigreeFunction         Age     Outcome  \n",
      "count  768.000000                768.000000  768.000000  768.000000  \n",
      "mean    31.992578                  0.471876   33.240885    0.348958  \n",
      "std      7.884160                  0.331329   11.760232    0.476951  \n",
      "min      0.000000                  0.078000   21.000000    0.000000  \n",
      "25%     27.300000                  0.243750   24.000000    0.000000  \n",
      "50%     32.000000                  0.372500   29.000000    0.000000  \n",
      "75%     36.600000                  0.626250   41.000000    1.000000  \n",
      "max     67.100000                  2.420000   81.000000    1.000000  \n"
     ]
    }
   ],
   "source": [
    "#Description of our data\n",
    "print(data.describe())"
   ]
  },
  {
   "cell_type": "markdown",
   "metadata": {},
   "source": [
    "Here we can see there are various categories where the data is read '0' such as Glucose, BloodPressure,SkinThickness, Insulin and BMI."
   ]
  },
  {
   "cell_type": "code",
   "execution_count": 144,
   "metadata": {},
   "outputs": [
    {
     "name": "stdout",
     "output_type": "stream",
     "text": [
      "The count of values as 0 in Glucose are 5\n"
     ]
    },
    {
     "data": {
      "image/png": "[encoded data removed]",
      "text/plain": [
       "<Figure size 432x288 with 1 Axes>"
      ]
     },
     "metadata": {
      "needs_background": "light"
     },
     "output_type": "display_data"
    }
   ],
   "source": [
    "#Let's check how many values are as 0 Glucose in count\n",
    "sns.histplot(x=data['Glucose'])\n",
    "print(\"The count of values as 0 in Glucose are\",data[data['Glucose']==0].shape[0])"
   ]
  },
  {
   "cell_type": "code",
   "execution_count": 145,
   "metadata": {},
   "outputs": [
    {
     "name": "stdout",
     "output_type": "stream",
     "text": [
      "The count of values as 0 in Blood Pressure are 35\n"
     ]
    },
    {
     "data": {
      "image/png": "[encoded data removed]",
      "text/plain": [
       "<Figure size 432x288 with 1 Axes>"
      ]
     },
     "metadata": {
      "needs_background": "light"
     },
     "output_type": "display_data"
    }
   ],
   "source": [
    "#Let's check how many values are as 0 BloodPressure in count\n",
    "\n",
    "sns.histplot(x=data['BloodPressure'])\n",
    "print(\"The count of values as 0 in Blood Pressure are\",data[data['BloodPressure']==0].shape[0])"
   ]
  },
  {
   "cell_type": "code",
   "execution_count": 146,
   "metadata": {},
   "outputs": [
    {
     "name": "stdout",
     "output_type": "stream",
     "text": [
      "The count of values as 0 in Skin Thickness are 227\n"
     ]
    },
    {
     "data": {
      "image/png": "[encoded data removed]",
      "text/plain": [
       "<Figure size 432x288 with 1 Axes>"
      ]
     },
     "metadata": {
      "needs_background": "light"
     },
     "output_type": "display_data"
    }
   ],
   "source": [
    "#Let's check how many values are as 0 SkinThickness in count\n",
    "\n",
    "sns.histplot(x=data['SkinThickness'])\n",
    "print(\"The count of values as 0 in Skin Thickness are\",data[data['SkinThickness']==0].shape[0])"
   ]
  },
  {
   "cell_type": "code",
   "execution_count": 147,
   "metadata": {},
   "outputs": [
    {
     "name": "stdout",
     "output_type": "stream",
     "text": [
      "The count of values as 0 in Insulin are 374\n"
     ]
    },
    {
     "data": {
      "image/png": "[encoded data removed]",
      "text/plain": [
       "<Figure size 432x288 with 1 Axes>"
      ]
     },
     "metadata": {
      "needs_background": "light"
     },
     "output_type": "display_data"
    }
   ],
   "source": [
    "#Let's check how many values are as 0 Insulin in count\n",
    "sns.histplot(x=data['Insulin'])\n",
    "print(\"The count of values as 0 in Insulin are\",data[data['Insulin']==0].shape[0])"
   ]
  },
  {
   "cell_type": "code",
   "execution_count": 148,
   "metadata": {},
   "outputs": [
    {
     "name": "stdout",
     "output_type": "stream",
     "text": [
      "The count of values as 0 in BMI are 11\n"
     ]
    },
    {
     "data": {
      "image/png": "[encoded data removed]",
      "text/plain": [
       "<Figure size 432x288 with 1 Axes>"
      ]
     },
     "metadata": {
      "needs_background": "light"
     },
     "output_type": "display_data"
    }
   ],
   "source": [
    "#Let's check how many values are as 0 BMI in count\n",
    "sns.histplot(data['BMI'])\n",
    "print(\"The count of values as 0 in BMI are\",data[data['BMI']==0].shape[0])"
   ]
  },
  {
   "cell_type": "code",
   "execution_count": 149,
   "metadata": {},
   "outputs": [
    {
     "name": "stdout",
     "output_type": "stream",
     "text": [
      "The count of values as 0 in Diabetes Pedigree Function are 0\n"
     ]
    },
    {
     "data": {
      "image/png": "[encoded data removed]",
      "text/plain": [
       "<Figure size 432x288 with 1 Axes>"
      ]
     },
     "metadata": {
      "needs_background": "light"
     },
     "output_type": "display_data"
    }
   ],
   "source": [
    "#Let's check how many values are as 0 DiabetesPedigreeFunction in count\n",
    "\n",
    "sns.histplot(x=data['DiabetesPedigreeFunction'])\n",
    "print(\"The count of values as 0 in Diabetes Pedigree Function are\",data[data['DiabetesPedigreeFunction']==0].shape[0])\n",
    "#There are no value inserted as 0 in DiabetesPedigreFunction"
   ]
  },
  {
   "cell_type": "markdown",
   "metadata": {},
   "source": [
    "### Conclusion of Exploratory Data Analysis is : "
   ]
  },
  {
   "cell_type": "code",
   "execution_count": 150,
   "metadata": {},
   "outputs": [
    {
     "name": "stdout",
     "output_type": "stream",
     "text": [
      "The count of values as 0 in Glucose are 5\n",
      "The count of values as 0 in Blood Pressure are 35\n",
      "The count of values as 0 in Skin Thickness are 227\n",
      "The count of values as 0 in Insulin are 374\n",
      "The count of values as 0 in BMI are 11\n",
      "The count of values as 0 in Diabetes Pedigree Function are 0\n",
      "The count of values as 0 in Age are 0\n"
     ]
    }
   ],
   "source": [
    "print(\"The count of values as 0 in Glucose are\",data[data['Glucose']==0].shape[0])\n",
    "print(\"The count of values as 0 in Blood Pressure are\",data[data['BloodPressure']==0].shape[0])\n",
    "print(\"The count of values as 0 in Skin Thickness are\",data[data['SkinThickness']==0].shape[0])\n",
    "print(\"The count of values as 0 in Insulin are\",data[data['Insulin']==0].shape[0])\n",
    "print(\"The count of values as 0 in BMI are\",data[data['BMI']==0].shape[0])\n",
    "print(\"The count of values as 0 in Diabetes Pedigree Function are\",data[data['DiabetesPedigreeFunction']==0].shape[0])\n",
    "print(\"The count of values as 0 in Age are\",data[data['Age']==0].shape[0])\n"
   ]
  },
  {
   "cell_type": "markdown",
   "metadata": {},
   "source": [
    "### Work to be done on the data"
   ]
  },
  {
   "cell_type": "markdown",
   "metadata": {},
   "source": [
    "We have to fill these values to build ML models on the data"
   ]
  },
  {
   "cell_type": "code",
   "execution_count": 151,
   "metadata": {},
   "outputs": [],
   "source": [
    "# Replaced the 0 values with mean of particular categories\n",
    "data['Glucose']=data['Glucose'].replace(0,data['Glucose'].mean())\n",
    "data['BloodPressure']=data['BloodPressure'].replace(0,data['BloodPressure'].mean())\n",
    "data['SkinThickness']=data['SkinThickness'].replace(0,data['SkinThickness'].mean())\n",
    "data['Insulin']=data['Insulin'].replace(0,data['Insulin'].mean())\n",
    "data['BMI']=data['BMI'].replace(0,data['BMI'].mean())\n"
   ]
  },
  {
   "cell_type": "code",
   "execution_count": 152,
   "metadata": {},
   "outputs": [
    {
     "name": "stdout",
     "output_type": "stream",
     "text": [
      "The count of values as 0 in Glucose are 0\n",
      "The count of values as 0 in Blood Pressure are 0\n",
      "The count of values as 0 in Skin Thickness are 0\n",
      "The count of values as 0 in Insulin are 0\n",
      "The count of values as 0 in BMI are 0\n",
      "The count of values as 0 in Diabetes Pedigree Function are 0\n",
      "The count of values as 0 in Age are 0\n"
     ]
    }
   ],
   "source": [
    "# Let's check the data again for 0 values\n",
    "print(\"The count of values as 0 in Glucose are\",data[data['Glucose']==0].shape[0])\n",
    "print(\"The count of values as 0 in Blood Pressure are\",data[data['BloodPressure']==0].shape[0])\n",
    "print(\"The count of values as 0 in Skin Thickness are\",data[data['SkinThickness']==0].shape[0])\n",
    "print(\"The count of values as 0 in Insulin are\",data[data['Insulin']==0].shape[0])\n",
    "print(\"The count of values as 0 in BMI are\",data[data['BMI']==0].shape[0])\n",
    "print(\"The count of values as 0 in Diabetes Pedigree Function are\",data[data['DiabetesPedigreeFunction']==0].shape[0])\n",
    "print(\"The count of values as 0 in Age are\",data[data['Age']==0].shape[0])\n"
   ]
  },
  {
   "cell_type": "markdown",
   "metadata": {},
   "source": [
    "### Summary of New Data"
   ]
  },
  {
   "cell_type": "code",
   "execution_count": 153,
   "metadata": {},
   "outputs": [
    {
     "name": "stdout",
     "output_type": "stream",
     "text": [
      "       Pregnancies     Glucose  BloodPressure  SkinThickness     Insulin  \\\n",
      "count   768.000000  768.000000     768.000000     768.000000  768.000000   \n",
      "mean      3.845052  121.681605      72.254807      26.606479  118.660163   \n",
      "std       3.369578   30.436016      12.115932       9.631241   93.080358   \n",
      "min       0.000000   44.000000      24.000000       7.000000   14.000000   \n",
      "25%       1.000000   99.750000      64.000000      20.536458   79.799479   \n",
      "50%       3.000000  117.000000      72.000000      23.000000   79.799479   \n",
      "75%       6.000000  140.250000      80.000000      32.000000  127.250000   \n",
      "max      17.000000  199.000000     122.000000      99.000000  846.000000   \n",
      "\n",
      "              BMI  DiabetesPedigreeFunction         Age     Outcome  \n",
      "count  768.000000                768.000000  768.000000  768.000000  \n",
      "mean    32.450805                  0.471876   33.240885    0.348958  \n",
      "std      6.875374                  0.331329   11.760232    0.476951  \n",
      "min     18.200000                  0.078000   21.000000    0.000000  \n",
      "25%     27.500000                  0.243750   24.000000    0.000000  \n",
      "50%     32.000000                  0.372500   29.000000    0.000000  \n",
      "75%     36.600000                  0.626250   41.000000    1.000000  \n",
      "max     67.100000                  2.420000   81.000000    1.000000  \n"
     ]
    }
   ],
   "source": [
    "print(data.describe())"
   ]
  },
  {
   "cell_type": "markdown",
   "metadata": {},
   "source": [
    "## Building Prediciton Models on finalized data"
   ]
  },
  {
   "cell_type": "markdown",
   "metadata": {},
   "source": [
    "## Decision Tree Classifier"
   ]
  },
  {
   "cell_type": "code",
   "execution_count": 154,
   "metadata": {},
   "outputs": [],
   "source": [
    "#Importing necessary libraries\n",
    "from sklearn.tree import DecisionTreeClassifier"
   ]
  },
  {
   "cell_type": "code",
   "execution_count": 155,
   "metadata": {},
   "outputs": [],
   "source": [
    "#Separating target and feature variables\n",
    "y=data['Outcome'].values\n",
    "column_list=list(data.columns)\n",
    "features=list(set(column_list)-set(['Outcome']))\n",
    "x=data[features].values"
   ]
  },
  {
   "cell_type": "code",
   "execution_count": 156,
   "metadata": {},
   "outputs": [],
   "source": [
    "#Building Decision Tree Regressor Model\n",
    "Decision_classifier_model=DecisionTreeClassifier(random_state=0)\n",
    "train_x,test_x,train_y,test_y=train_test_split(x,y,random_state=True)\n",
    "Decision_classifier_model.fit(train_x,train_y)\n",
    "predictions=Decision_classifier_model.predict(test_x)\n",
    "accuracy=accuracy_score(test_y,predictions)"
   ]
  },
  {
   "cell_type": "code",
   "execution_count": 157,
   "metadata": {},
   "outputs": [
    {
     "name": "stdout",
     "output_type": "stream",
     "text": [
      "67.1875 %\n",
      "Missclassified Samples :  63\n"
     ]
    }
   ],
   "source": [
    "#Let's get the outcome of the model we built\n",
    "print(accuracy*100,'%')\n",
    "print(\"Missclassified Samples : \",(test_y!=predictions).sum())"
   ]
  },
  {
   "cell_type": "markdown",
   "metadata": {},
   "source": [
    "## Decision Tree Classifier after removing insignificant variable"
   ]
  },
  {
   "cell_type": "code",
   "execution_count": 158,
   "metadata": {},
   "outputs": [
    {
     "name": "stdout",
     "output_type": "stream",
     "text": [
      "Index(['Pregnancies', 'Glucose', 'BloodPressure', 'Insulin', 'BMI',\n",
      "       'DiabetesPedigreeFunction', 'Age', 'Outcome'],\n",
      "      dtype='object')\n",
      "(768, 8)\n"
     ]
    }
   ],
   "source": [
    "#Dropping the 'SkinThickness' variable from the copied dataset\n",
    "data2=data.copy()\n",
    "data2=data2.drop(['SkinThickness'],axis=1)\n",
    "print(data2.columns)\n",
    "print(data2.shape)"
   ]
  },
  {
   "cell_type": "code",
   "execution_count": 159,
   "metadata": {},
   "outputs": [],
   "source": [
    "#Separating the features and target variable\n",
    "y=data2.Outcome\n",
    "features2=features\n",
    "features2.remove('SkinThickness')\n",
    "x=data2[features2]"
   ]
  },
  {
   "cell_type": "code",
   "execution_count": 160,
   "metadata": {},
   "outputs": [],
   "source": [
    "#Now let's apply the same model again\n",
    "\n",
    "classifier_model=DecisionTreeClassifier(random_state=0)\n",
    "train_x,test_x,train_y,test_y=train_test_split(x,y,random_state=True)\n",
    "classifier_model.fit(train_x,train_y)\n",
    "predictions=classifier_model.predict(test_x)\n",
    "accuracy=accuracy_score(test_y,predictions)"
   ]
  },
  {
   "cell_type": "code",
   "execution_count": 161,
   "metadata": {},
   "outputs": [
    {
     "name": "stdout",
     "output_type": "stream",
     "text": [
      "68.22916666666666 %\n",
      "Misclassified Samples :  61\n"
     ]
    }
   ],
   "source": [
    "#Getting the outcome of the model\n",
    "print(accuracy*100,'%')\n",
    "print(\"Misclassified Samples : \", (test_y!=predictions).sum())\n",
    "accuracy_dic['Decision Tree']=accuracy*100\n",
    "\n",
    "#We have seen accuracy is same and misclassified samples are also same"
   ]
  },
  {
   "cell_type": "markdown",
   "metadata": {},
   "source": [
    "## Random Forest Classifier"
   ]
  },
  {
   "cell_type": "code",
   "execution_count": 162,
   "metadata": {},
   "outputs": [],
   "source": [
    "#Import necessary Libraries\n",
    "from sklearn.ensemble import RandomForestClassifier"
   ]
  },
  {
   "cell_type": "code",
   "execution_count": 163,
   "metadata": {},
   "outputs": [],
   "source": [
    "#Build the Random Forest Classifier model\n",
    "random_forest_model=RandomForestClassifier()\n",
    "train_x,test_x,train_y,test_y=train_test_split(x,y,random_state=0)\n",
    "random_forest_model.fit(train_x,train_y)\n",
    "predictions=random_forest_model.predict(test_x)\n",
    "accuracy=accuracy_score(test_y,predictions)"
   ]
  },
  {
   "cell_type": "code",
   "execution_count": 164,
   "metadata": {},
   "outputs": [
    {
     "name": "stdout",
     "output_type": "stream",
     "text": [
      "79.16666666666666 %\n",
      "Misclassified samples :  40\n"
     ]
    }
   ],
   "source": [
    "#Get the outcome of the model\n",
    "print(accuracy*100,'%')\n",
    "print(\"Misclassified samples : \",(test_y!=predictions).sum())\n",
    "accuracy_dic['Random Forest']=accuracy*100\n"
   ]
  },
  {
   "cell_type": "markdown",
   "metadata": {},
   "source": [
    "## Logistic Regression"
   ]
  },
  {
   "cell_type": "code",
   "execution_count": 165,
   "metadata": {},
   "outputs": [],
   "source": [
    "#importing necessary libraries\n",
    "from sklearn.linear_model import LogisticRegression"
   ]
  },
  {
   "cell_type": "code",
   "execution_count": 166,
   "metadata": {},
   "outputs": [],
   "source": [
    "#Building the model\n",
    "\n",
    "Logistic_model=LogisticRegression(solver='lbfgs',max_iter=150) #We are providing the maximum iteration to the model. This is to solve the lbfgs warning which we will get while predicting, however it doesn't affect the result.\n",
    "train_x,test_x,train_y,test_y=train_test_split(x,y,random_state=0)\n",
    "Logistic_model.fit(train_x,train_y)\n",
    "predictions=Logistic_model.predict(test_x)\n",
    "accuracy=accuracy_score(test_y,predictions)"
   ]
  },
  {
   "cell_type": "code",
   "execution_count": 167,
   "metadata": {},
   "outputs": [
    {
     "name": "stdout",
     "output_type": "stream",
     "text": [
      "79.6875 %\n",
      "Misclassified Samples :  39\n"
     ]
    }
   ],
   "source": [
    "#Getting the outcome of model\n",
    "print(accuracy*100,'%')\n",
    "print(\"Misclassified Samples : \", (test_y!=predictions).sum())\n",
    "accuracy_dic['Logistic Regression']=accuracy*100\n",
    "\n",
    "#We can see that Logistic model is giving a very much better accuracy when compared to Decision Tree Regressor and also misclassified samples are less.\n"
   ]
  },
  {
   "cell_type": "markdown",
   "metadata": {},
   "source": [
    "## SVM Classifier"
   ]
  },
  {
   "cell_type": "code",
   "execution_count": 168,
   "metadata": {},
   "outputs": [],
   "source": [
    "#Importing necessary libraries\n",
    "from sklearn import svm"
   ]
  },
  {
   "cell_type": "code",
   "execution_count": 169,
   "metadata": {},
   "outputs": [],
   "source": [
    "#Build the SVC model\n",
    "svm_model=svm.SVC(kernel='linear')\n",
    "train_x,test_x,train_y,test_y=train_test_split(x,y,random_state=0)\n",
    "svm_model.fit(train_x,train_y)\n",
    "predictions=svm_model.predict(test_x)\n",
    "accuracy=accuracy_score(test_y,predictions)"
   ]
  },
  {
   "cell_type": "code",
   "execution_count": 170,
   "metadata": {},
   "outputs": [
    {
     "name": "stdout",
     "output_type": "stream",
     "text": [
      "79.16666666666666 %\n",
      "Misclassified samples :  40\n"
     ]
    }
   ],
   "source": [
    "#Get the Outcome of the model\n",
    "print(accuracy*100,'%')\n",
    "print(\"Misclassified samples : \",(test_y!=predictions).sum())\n",
    "accuracy_dic['SVM Classifier']=accuracy*100\n"
   ]
  },
  {
   "cell_type": "markdown",
   "metadata": {},
   "source": [
    "## Naive Bayes "
   ]
  },
  {
   "cell_type": "code",
   "execution_count": 171,
   "metadata": {},
   "outputs": [],
   "source": [
    "#Importing necessary libraries\n",
    "from sklearn.naive_bayes import GaussianNB"
   ]
  },
  {
   "cell_type": "code",
   "execution_count": 172,
   "metadata": {},
   "outputs": [],
   "source": [
    "#Build the Naive Bayes model\n",
    "naive_model=GaussianNB()\n",
    "naive_model.fit(train_x,train_y)\n",
    "predictions=naive_model.predict(test_x)\n",
    "accuracy=accuracy_score(test_y,predictions)"
   ]
  },
  {
   "cell_type": "code",
   "execution_count": 173,
   "metadata": {},
   "outputs": [
    {
     "name": "stdout",
     "output_type": "stream",
     "text": [
      "78.125 %\n",
      "Misclassified samples :  42\n"
     ]
    }
   ],
   "source": [
    "#Get the outcome of the model\n",
    "print(accuracy*100,'%')\n",
    "print(\"Misclassified samples : \",(test_y!=predictions).sum())\n",
    "accuracy_dic['Naive Bayes']=accuracy*100\n"
   ]
  },
  {
   "cell_type": "markdown",
   "metadata": {},
   "source": [
    "## KNN Classifier "
   ]
  },
  {
   "cell_type": "code",
   "execution_count": 174,
   "metadata": {},
   "outputs": [],
   "source": [
    "#importing necessary libraries\n",
    "from sklearn.neighbors import KNeighborsClassifier"
   ]
  },
  {
   "cell_type": "code",
   "execution_count": 175,
   "metadata": {},
   "outputs": [],
   "source": [
    "#Build the KNN model \n",
    "knn_model=KNeighborsClassifier(n_neighbors=5)\n",
    "train_x,test_x,train_y,test_y=train_test_split(x,y,random_state=0)\n",
    "knn_model.fit(train_x,train_y)\n",
    "predictions=knn_model.predict(test_x)\n",
    "accuracy=accuracy_score(test_y,predictions)"
   ]
  },
  {
   "cell_type": "code",
   "execution_count": 176,
   "metadata": {},
   "outputs": [
    {
     "name": "stdout",
     "output_type": "stream",
     "text": [
      "75.0 %\n",
      "Misclassified Samples :  48\n"
     ]
    }
   ],
   "source": [
    "#Get the outcome of the model\n",
    "print(accuracy*100,'%')\n",
    "print(\"Misclassified Samples : \", (test_y!=predictions).sum())\n",
    "accuracy_dic['KNN']=accuracy*100\n"
   ]
  },
  {
   "cell_type": "code",
   "execution_count": 177,
   "metadata": {},
   "outputs": [
    {
     "name": "stdout",
     "output_type": "stream",
     "text": [
      "[67, 57, 53, 48, 48, 49, 49, 47, 50, 47, 47, 45, 44, 45, 44, 45, 46, 45, 47]\n"
     ]
    }
   ],
   "source": [
    "#Since the KNN model gave us less accuracy\n",
    "#Let's check the accuracy by changing the number of neighbors\n",
    "misclassified=[]\n",
    "for neighbors in range(1,20):\n",
    "    knn_model=KNeighborsClassifier(n_neighbors=neighbors)\n",
    "    knn_model.fit(train_x,train_y)\n",
    "    pred_neighbors=knn_model.predict(test_x)\n",
    "    misclassified.append((test_y!=pred_neighbors).sum())\n",
    "print(misclassified)"
   ]
  },
  {
   "cell_type": "markdown",
   "metadata": {},
   "source": [
    "### Here neighbors=15 gives the lowest number of misclassified samples that is 44. However it is greater than the misclassified samples we got in logistic regression"
   ]
  },
  {
   "cell_type": "code",
   "execution_count": 230,
   "metadata": {},
   "outputs": [
    {
     "data": {
      "image/png": "[encoded data removed]",
      "text/plain": [
       "<Figure size 432x288 with 1 Axes>"
      ]
     },
     "metadata": {
      "needs_background": "light"
     },
     "output_type": "display_data"
    }
   ],
   "source": [
    "# Let's visualize the accuracy of the models that we built on the data for better understanding\n",
    "\n",
    "models=list(accuracy_dic.keys()) # Stored the keys which are model names in the list named 'model'\n",
    "\n",
    "acc=list(accuracy_dic.values()) # Stored the values which are accuracy of models in the list named 'acc'\n",
    "\n",
    "bar_plot=sns.barplot(x=acc,y=models)\n",
    "bar_plot.set_xlabel('Accuracy')\n",
    "bar_plot.set_ylabel('ML Models')\n",
    "#plt.xticks(rotation=45)\n",
    "plt.show()\n"
   ]
  },
  {
   "cell_type": "code",
   "execution_count": 234,
   "metadata": {},
   "outputs": [
    {
     "data": {
      "image/png": "[encoded data removed]",
      "text/plain": [
       "<Figure size 432x288 with 1 Axes>"
      ]
     },
     "metadata": {
      "needs_background": "light"
     },
     "output_type": "display_data"
    }
   ],
   "source": [
    "dd=pd.DataFrame(accuracy_dic,index=['Accuracy'])\n",
    "g=sns.barplot(x=models,y=acc)\n",
    "g.set_xlabel('ML Models')\n",
    "g.set_ylabel('Accuracy')\n",
    "plt.xticks(rotation=90)\n",
    "for p in g.patches:\n",
    "    g.annotate(format(p.get_height(), '.2f'), \n",
    "                   (p.get_x() + p.get_width() / 2., p.get_height()), \n",
    "                   ha = 'center', va = 'center', \n",
    "                   xytext = (0, 5), \n",
    "                   textcoords = 'offset points')"
   ]
  },
  {
   "cell_type": "markdown",
   "metadata": {},
   "source": [
    "### So till now 'LogisticRegression' is the best model proved in terms of accuracy"
   ]
  },
  {
   "cell_type": "markdown",
   "metadata": {},
   "source": [
    "# <b> End of Script"
   ]
  }
 ],
 "metadata": {
  "interpreter": {
   "hash": "916dbcbb3f70747c44a77c7bcd40155683ae19c65e1c03b4aa3499c5328201f1"
  },
  "kernelspec": {
   "display_name": "Python 3.8.10 64-bit",
   "name": "python3"
  },
  "language_info": {
   "codemirror_mode": {
    "name": "ipython",
    "version": 3
   },
   "file_extension": ".py",
   "mimetype": "text/x-python",
   "name": "python",
   "nbconvert_exporter": "python",
   "pygments_lexer": "ipython3",
   "version": "3.8.10"
  },
  "orig_nbformat": 4
 },
 "nbformat": 4,
 "nbformat_minor": 2
}
